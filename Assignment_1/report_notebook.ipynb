{
 "cells": [
  {
   "cell_type": "markdown",
   "id": "bd71eb10",
   "metadata": {},
   "source": [
    "\n",
    "LIANG Jing from IEDA\n",
    "\n",
    "\n"
   ]
  },
  {
   "cell_type": "markdown",
   "id": "ff6287aa",
   "metadata": {},
   "source": [
    "# Introduction of idea\n",
    "\n",
    "In the basic linear regression model, gender is assumed to affect height linearly. However, according to research by Cole or Tanner, the influence of gender on height is not linear but rather exhibits a more complex relationship with parental heights.\n",
    "\n",
    "To avoide using a much more complex model,\n",
    "I attempt to split the data by gender and construct separate linear regression models to predict the heights of boys and girls, respectively.\n"
   ]
  },
  {
   "cell_type": "markdown",
   "id": "39786942",
   "metadata": {},
   "source": [
    "# Code\n"
   ]
  },
  {
   "cell_type": "code",
   "execution_count": 19,
   "id": "eec9cc77",
   "metadata": {},
   "outputs": [
    {
     "data": {
      "text/html": [
       "<div>\n",
       "<style scoped>\n",
       "    .dataframe tbody tr th:only-of-type {\n",
       "        vertical-align: middle;\n",
       "    }\n",
       "\n",
       "    .dataframe tbody tr th {\n",
       "        vertical-align: top;\n",
       "    }\n",
       "\n",
       "    .dataframe thead th {\n",
       "        text-align: right;\n",
       "    }\n",
       "</style>\n",
       "<table border=\"1\" class=\"dataframe\">\n",
       "  <thead>\n",
       "    <tr style=\"text-align: right;\">\n",
       "      <th></th>\n",
       "      <th>rownames</th>\n",
       "      <th>family</th>\n",
       "      <th>father</th>\n",
       "      <th>mother</th>\n",
       "      <th>midparentHeight</th>\n",
       "      <th>children</th>\n",
       "      <th>childNum</th>\n",
       "      <th>gender</th>\n",
       "      <th>childHeight</th>\n",
       "    </tr>\n",
       "  </thead>\n",
       "  <tbody>\n",
       "    <tr>\n",
       "      <th>0</th>\n",
       "      <td>1</td>\n",
       "      <td>001</td>\n",
       "      <td>78.5</td>\n",
       "      <td>67.0</td>\n",
       "      <td>75.43</td>\n",
       "      <td>4</td>\n",
       "      <td>1</td>\n",
       "      <td>male</td>\n",
       "      <td>73.2</td>\n",
       "    </tr>\n",
       "    <tr>\n",
       "      <th>1</th>\n",
       "      <td>2</td>\n",
       "      <td>001</td>\n",
       "      <td>78.5</td>\n",
       "      <td>67.0</td>\n",
       "      <td>75.43</td>\n",
       "      <td>4</td>\n",
       "      <td>2</td>\n",
       "      <td>female</td>\n",
       "      <td>69.2</td>\n",
       "    </tr>\n",
       "    <tr>\n",
       "      <th>2</th>\n",
       "      <td>3</td>\n",
       "      <td>001</td>\n",
       "      <td>78.5</td>\n",
       "      <td>67.0</td>\n",
       "      <td>75.43</td>\n",
       "      <td>4</td>\n",
       "      <td>3</td>\n",
       "      <td>female</td>\n",
       "      <td>69.0</td>\n",
       "    </tr>\n",
       "    <tr>\n",
       "      <th>3</th>\n",
       "      <td>4</td>\n",
       "      <td>001</td>\n",
       "      <td>78.5</td>\n",
       "      <td>67.0</td>\n",
       "      <td>75.43</td>\n",
       "      <td>4</td>\n",
       "      <td>4</td>\n",
       "      <td>female</td>\n",
       "      <td>69.0</td>\n",
       "    </tr>\n",
       "    <tr>\n",
       "      <th>4</th>\n",
       "      <td>5</td>\n",
       "      <td>002</td>\n",
       "      <td>75.5</td>\n",
       "      <td>66.5</td>\n",
       "      <td>73.66</td>\n",
       "      <td>4</td>\n",
       "      <td>1</td>\n",
       "      <td>male</td>\n",
       "      <td>73.5</td>\n",
       "    </tr>\n",
       "  </tbody>\n",
       "</table>\n",
       "</div>"
      ],
      "text/plain": [
       "   rownames family  father  mother  midparentHeight  children  childNum  \\\n",
       "0         1    001    78.5    67.0            75.43         4         1   \n",
       "1         2    001    78.5    67.0            75.43         4         2   \n",
       "2         3    001    78.5    67.0            75.43         4         3   \n",
       "3         4    001    78.5    67.0            75.43         4         4   \n",
       "4         5    002    75.5    66.5            73.66         4         1   \n",
       "\n",
       "   gender  childHeight  \n",
       "0    male         73.2  \n",
       "1  female         69.2  \n",
       "2  female         69.0  \n",
       "3  female         69.0  \n",
       "4    male         73.5  "
      ]
     },
     "execution_count": 19,
     "metadata": {},
     "output_type": "execute_result"
    }
   ],
   "source": [
    "\n",
    "import numpy as np\n",
    "import pandas as pd\n",
    "from pathlib import Path\n",
    "from sklearn.linear_model import LinearRegression\n",
    "from sklearn.metrics import mean_squared_error\n",
    "from sklearn.model_selection import train_test_split\n",
    "import seaborn as sns\n",
    "import matplotlib.pyplot as plt\n",
    "\n",
    "current_dir = Path(\".\").resolve()\n",
    "file_path = current_dir / \"data\" / \"GaltonFamilies.csv\"\n",
    "\n",
    "# Get the data\n",
    "GaltonFamilies = pd.read_csv(file_path)\n",
    "GaltonFamilies.head()\n"
   ]
  },
  {
   "cell_type": "code",
   "execution_count": 20,
   "id": "f933f682",
   "metadata": {},
   "outputs": [],
   "source": [
    "\n",
    "# Prepare the data\n",
    "GaltonFamilies = pd.get_dummies(GaltonFamilies, columns=['gender'], prefix='gender', drop_first=True)\n",
    "features = ['father','mother','midparentHeight','gender_male']\n",
    "target = 'childHeight'\n",
    "\n",
    "X = GaltonFamilies[features]\n",
    "y = GaltonFamilies[target]\n"
   ]
  },
  {
   "cell_type": "code",
   "execution_count": 21,
   "id": "d938cf9d",
   "metadata": {},
   "outputs": [
    {
     "name": "stdout",
     "output_type": "stream",
     "text": [
      "Single linear regression MSE = 4.8273 ± 0.5152\n"
     ]
    }
   ],
   "source": [
    "\n",
    "# Single linear regression model\n",
    "np.random.seed(10)\n",
    "nrep = 100\n",
    "MSE_whole = np.zeros(nrep)\n",
    "\n",
    "for rep in range(nrep):\n",
    "    X_train, X_test, y_train, y_test = train_test_split(X, y, test_size=0.2, random_state=rep)\n",
    "    model = LinearRegression()\n",
    "    model.fit(X_train, y_train)\n",
    "    y_pred = model.predict(X_test)\n",
    "    MSE_whole[rep] = mean_squared_error(y_test, y_pred)\n",
    "\n",
    "mean_mse_whole = MSE_whole.mean()\n",
    "std_mse_whole = MSE_whole.std()\n",
    "print(f\"Single linear regression MSE = {mean_mse_whole:.4f} ± {std_mse_whole:.4f}\")\n"
   ]
  },
  {
   "cell_type": "code",
   "execution_count": 22,
   "id": "0e035801",
   "metadata": {},
   "outputs": [
    {
     "name": "stdout",
     "output_type": "stream",
     "text": [
      "Gender seprated linear regression MSE = 4.6750 ± 0.4175\n"
     ]
    }
   ],
   "source": [
    "\n",
    "# gender-seprated linear regression model\n",
    "MSE_gender = np.zeros(nrep)\n",
    "male_data = GaltonFamilies[GaltonFamilies['gender_male'] == 1]\n",
    "female_data = GaltonFamilies[GaltonFamilies['gender_male'] == 0]\n",
    "\n",
    "features = ['father','mother','midparentHeight']\n",
    "\n",
    "for rep in range(nrep):\n",
    "    n_male_train = int(len(male_data) * 0.8)\n",
    "    n_female_train = int(len(female_data) * 0.8)\n",
    "\n",
    "    male_train_idx = np.random.choice(len(male_data), n_male_train, replace=False)\n",
    "    female_train_idx = np.random.choice(len(female_data), n_female_train, replace=False)\n",
    "\n",
    "    male_train = male_data.iloc[male_train_idx]\n",
    "    male_test = male_data.drop(male_data.index[male_train_idx])\n",
    "    female_train = female_data.iloc[female_train_idx]\n",
    "    female_test = female_data.drop(female_data.index[female_train_idx])\n",
    "\n",
    "    model_male = LinearRegression()\n",
    "    model_male.fit(male_train[features], male_train[target])\n",
    "    model_female = LinearRegression()\n",
    "    model_female.fit(female_train[features], female_train[target])\n",
    "\n",
    "    male_pred = model_male.predict(male_test[features])\n",
    "    female_pred = model_female.predict(female_test[features])\n",
    "\n",
    "    all_true = pd.concat([male_test[target], female_test[target]])\n",
    "    all_pred = np.concatenate([male_pred, female_pred])\n",
    "\n",
    "    MSE_gender[rep] = mean_squared_error(all_true, all_pred)\n",
    "\n",
    "mean_mse_gender = MSE_gender.mean()\n",
    "std_mse_gender = MSE_gender.std()\n",
    "print(f\"Gender seprated linear regression MSE = {mean_mse_gender:.4f} ± {std_mse_gender:.4f}\")\n"
   ]
  },
  {
   "cell_type": "code",
   "execution_count": null,
   "id": "3fac2687",
   "metadata": {},
   "outputs": [
    {
     "name": "stderr",
     "output_type": "stream",
     "text": [
      "/var/folders/s9/dwmbdjrn0rsdf992gy9545_m0000gn/T/ipykernel_9328/1417547387.py:6: MatplotlibDeprecationWarning: The 'labels' parameter of boxplot() has been renamed 'tick_labels' since Matplotlib 3.9; support for the old name will be dropped in 3.11.\n",
      "  plt.boxplot(box_data, labels=box_labels)\n"
     ]
    },
    {
     "data": {
      "image/png": "[encoded data removed]",
      "text/plain": [
       "<Figure size 1000x600 with 1 Axes>"
      ]
     },
     "metadata": {},
     "output_type": "display_data"
    }
   ],
   "source": [
    "\n",
    "# Visualization\n",
    "plt.figure(figsize=(10,6))\n",
    "box_data = [MSE_whole, MSE_gender]\n",
    "box_labels = ['Single Model', 'Gender-Separated Model']\n",
    "\n",
    "plt.boxplot(box_data, tick_labels=box_labels)\n",
    "plt.ylabel(\"MSE\")\n",
    "plt.title(\"Comparison of MSE Distributions Across 100 Repetitions\")\n",
    "plt.grid(True, linestyle=\"--\", alpha=0.7)\n",
    "plt.show()\n"
   ]
  },
  {
   "cell_type": "markdown",
   "id": "49dc5f8d",
   "metadata": {},
   "source": [
    "# Conclusion\n",
    "\n",
    "After conducting 100 repeated experiments, the mean and standard deviation of the Mean Squared Error (MSE) were computed, yielding the following results:\n",
    "\n",
    "- **Single Linear Regression Model:** Mean MSE = $4.8273 \\pm 0.5152$  \n",
    "- **Gender-Separated Linear Regression Model:** Mean MSE = $4.6750 \\pm 0.4175$  \n",
    "\n",
    "Both the mean MSE and its standard deviation decreased, indicating the model has slightly improved.\n",
    "\n"
   ]
  }
 ],
 "metadata": {
  "kernelspec": {
   "display_name": "course_env",
   "language": "python",
   "name": "python3"
  },
  "language_info": {
   "codemirror_mode": {
    "name": "ipython",
    "version": 3
   },
   "file_extension": ".py",
   "mimetype": "text/x-python",
   "name": "python",
   "nbconvert_exporter": "python",
   "pygments_lexer": "ipython3",
   "version": "3.10.18"
  }
 },
 "nbformat": 4,
 "nbformat_minor": 5
}
